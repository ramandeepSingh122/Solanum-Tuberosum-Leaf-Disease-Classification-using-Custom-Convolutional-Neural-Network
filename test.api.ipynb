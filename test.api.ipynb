{
 "cells": [
  {
   "cell_type": "code",
   "execution_count": 1,
   "id": "66c74251-df77-4131-955b-49725a907638",
   "metadata": {},
   "outputs": [
    {
     "name": "stdout",
     "output_type": "stream",
     "text": [
      "Model loaded successfully using TFSMLayer!\n"
     ]
    }
   ],
   "source": [
    "import tensorflow as tf\n",
    "from keras import layers\n",
    "\n",
    "MODEL_PATH = \"C:/code/potato_disease/Models/potato_disease_model/3\"\n",
    "\n",
    "# ✅ Use TFSMLayer to load the model\n",
    "model = layers.TFSMLayer(MODEL_PATH, call_endpoint=\"serving_default\")\n",
    "\n",
    "print(\"Model loaded successfully using TFSMLayer!\")\n"
   ]
  },
  {
   "cell_type": "code",
   "execution_count": null,
   "id": "d0727dc6-0c1a-4e91-88a5-c30433576fd0",
   "metadata": {},
   "outputs": [
    {
     "name": "stderr",
     "output_type": "stream",
     "text": [
      "INFO:     Started server process [25576]\n",
      "INFO:     Waiting for application startup.\n",
      "INFO:     Application startup complete.\n",
      "INFO:     Uvicorn running on http://localhost:8014 (Press CTRL+C to quit)\n"
     ]
    },
    {
     "name": "stdout",
     "output_type": "stream",
     "text": [
      "INFO:     ::1:52653 - \"POST /predict HTTP/1.1\" 200 OK\n",
      "INFO:     ::1:52753 - \"POST /predict HTTP/1.1\" 200 OK\n",
      "INFO:     ::1:52761 - \"POST /predict HTTP/1.1\" 200 OK\n",
      "INFO:     ::1:52822 - \"POST /predict HTTP/1.1\" 200 OK\n",
      "INFO:     ::1:52826 - \"POST /predict HTTP/1.1\" 500 Internal Server Error\n"
     ]
    },
    {
     "name": "stderr",
     "output_type": "stream",
     "text": [
      "ERROR:    Exception in ASGI application\n",
      "Traceback (most recent call last):\n",
      "  File \"C:\\Users\\raman\\anaconda3\\Lib\\site-packages\\uvicorn\\protocols\\http\\h11_impl.py\", line 403, in run_asgi\n",
      "    result = await app(  # type: ignore[func-returns-value]\n",
      "             ^^^^^^^^^^^^^^^^^^^^^^^^^^^^^^^^^^^^^^^^^^^^^^\n",
      "  File \"C:\\Users\\raman\\anaconda3\\Lib\\site-packages\\uvicorn\\middleware\\proxy_headers.py\", line 60, in __call__\n",
      "    return await self.app(scope, receive, send)\n",
      "           ^^^^^^^^^^^^^^^^^^^^^^^^^^^^^^^^^^^^\n",
      "  File \"C:\\Users\\raman\\anaconda3\\Lib\\site-packages\\fastapi\\applications.py\", line 1054, in __call__\n",
      "    await super().__call__(scope, receive, send)\n",
      "  File \"C:\\Users\\raman\\anaconda3\\Lib\\site-packages\\starlette\\applications.py\", line 112, in __call__\n",
      "    await self.middleware_stack(scope, receive, send)\n",
      "  File \"C:\\Users\\raman\\anaconda3\\Lib\\site-packages\\starlette\\middleware\\errors.py\", line 187, in __call__\n",
      "    raise exc\n",
      "  File \"C:\\Users\\raman\\anaconda3\\Lib\\site-packages\\starlette\\middleware\\errors.py\", line 165, in __call__\n",
      "    await self.app(scope, receive, _send)\n",
      "  File \"C:\\Users\\raman\\anaconda3\\Lib\\site-packages\\starlette\\middleware\\cors.py\", line 93, in __call__\n",
      "    await self.simple_response(scope, receive, send, request_headers=headers)\n",
      "  File \"C:\\Users\\raman\\anaconda3\\Lib\\site-packages\\starlette\\middleware\\cors.py\", line 144, in simple_response\n",
      "    await self.app(scope, receive, send)\n",
      "  File \"C:\\Users\\raman\\anaconda3\\Lib\\site-packages\\starlette\\middleware\\exceptions.py\", line 62, in __call__\n",
      "    await wrap_app_handling_exceptions(self.app, conn)(scope, receive, send)\n",
      "  File \"C:\\Users\\raman\\anaconda3\\Lib\\site-packages\\starlette\\_exception_handler.py\", line 53, in wrapped_app\n",
      "    raise exc\n",
      "  File \"C:\\Users\\raman\\anaconda3\\Lib\\site-packages\\starlette\\_exception_handler.py\", line 42, in wrapped_app\n",
      "    await app(scope, receive, sender)\n",
      "  File \"C:\\Users\\raman\\anaconda3\\Lib\\site-packages\\starlette\\routing.py\", line 714, in __call__\n",
      "    await self.middleware_stack(scope, receive, send)\n",
      "  File \"C:\\Users\\raman\\anaconda3\\Lib\\site-packages\\starlette\\routing.py\", line 734, in app\n",
      "    await route.handle(scope, receive, send)\n",
      "  File \"C:\\Users\\raman\\anaconda3\\Lib\\site-packages\\starlette\\routing.py\", line 288, in handle\n",
      "    await self.app(scope, receive, send)\n",
      "  File \"C:\\Users\\raman\\anaconda3\\Lib\\site-packages\\starlette\\routing.py\", line 76, in app\n",
      "    await wrap_app_handling_exceptions(app, request)(scope, receive, send)\n",
      "  File \"C:\\Users\\raman\\anaconda3\\Lib\\site-packages\\starlette\\_exception_handler.py\", line 53, in wrapped_app\n",
      "    raise exc\n",
      "  File \"C:\\Users\\raman\\anaconda3\\Lib\\site-packages\\starlette\\_exception_handler.py\", line 42, in wrapped_app\n",
      "    await app(scope, receive, sender)\n",
      "  File \"C:\\Users\\raman\\anaconda3\\Lib\\site-packages\\starlette\\routing.py\", line 73, in app\n",
      "    response = await f(request)\n",
      "               ^^^^^^^^^^^^^^^^\n",
      "  File \"C:\\Users\\raman\\anaconda3\\Lib\\site-packages\\fastapi\\routing.py\", line 301, in app\n",
      "    raw_response = await run_endpoint_function(\n",
      "                   ^^^^^^^^^^^^^^^^^^^^^^^^^^^^\n",
      "  File \"C:\\Users\\raman\\anaconda3\\Lib\\site-packages\\fastapi\\routing.py\", line 212, in run_endpoint_function\n",
      "    return await dependant.call(**values)\n",
      "           ^^^^^^^^^^^^^^^^^^^^^^^^^^^^^^\n",
      "  File \"C:\\Users\\raman\\AppData\\Local\\Temp\\ipykernel_25576\\1188856704.py\", line 49, in predict\n",
      "    prediction = model(img_batch)\n",
      "                 ^^^^^^^^^^^^^^^^\n",
      "  File \"C:\\Users\\raman\\anaconda3\\Lib\\site-packages\\keras\\src\\utils\\traceback_utils.py\", line 122, in error_handler\n",
      "    raise e.with_traceback(filtered_tb) from None\n",
      "  File \"C:\\Users\\raman\\anaconda3\\Lib\\site-packages\\tensorflow\\python\\eager\\execute.py\", line 59, in quick_execute\n",
      "    except TypeError as e:\n",
      "tensorflow.python.framework.errors_impl.InvalidArgumentError: Exception encountered when calling TFSMLayer.call().\n",
      "\n",
      "\u001b[1mGraph execution error:\n",
      "\n",
      "Detected at node StatefulPartitionedCall/sequential_1/conv2d_1/Relu defined at (most recent call last):\n",
      "<stack traces unavailable>\n",
      "input depth must be evenly divisible by filter depth: 4 vs 3\n",
      "\t [[{{node StatefulPartitionedCall/sequential_1/conv2d_1/Relu}}]] [Op:__inference_signature_wrapper___call___918]\u001b[0m\n",
      "\n",
      "Arguments received by TFSMLayer.call():\n",
      "  • inputs=tf.Tensor(shape=(1, 256, 256, 4), dtype=float32)\n",
      "  • training=False\n",
      "  • kwargs=<class 'inspect._empty'>\n"
     ]
    },
    {
     "name": "stdout",
     "output_type": "stream",
     "text": [
      "INFO:     ::1:53681 - \"POST /predict HTTP/1.1\" 200 OK\n",
      "INFO:     ::1:53757 - \"POST /predict HTTP/1.1\" 200 OK\n"
     ]
    }
   ],
   "source": [
    "import nest_asyncio\n",
    "nest_asyncio.apply()\n",
    "import asyncio\n",
    "import uvicorn\n",
    "from fastapi import FastAPI, File, UploadFile\n",
    "from fastapi.middleware.cors import CORSMiddleware\n",
    "import numpy as np\n",
    "from io import BytesIO\n",
    "from PIL import Image\n",
    "import tensorflow as tf\n",
    "from keras import layers\n",
    "\n",
    "# ✅ Patch event loop to fix async errors in Jupyter Notebook\n",
    "nest_asyncio.apply()\n",
    "\n",
    "app = FastAPI()\n",
    "\n",
    "# Enable CORS for frontend requests\n",
    "origins = [\"http://localhost\", \"http://localhost:3000\"]\n",
    "app.add_middleware(\n",
    "    CORSMiddleware,\n",
    "    allow_origins=origins,\n",
    "    allow_credentials=True,\n",
    "    allow_methods=[\"*\"],\n",
    "    allow_headers=[\"*\"],\n",
    ")\n",
    "\n",
    "# ✅ Load the model using TFSMLayer\n",
    "MODEL_PATH = \"C:/code/potato_disease/Models/potato_disease_model/3\"\n",
    "model = layers.TFSMLayer(MODEL_PATH, call_endpoint=\"serving_default\")\n",
    "\n",
    "CLASS_NAMES = [\"Potato___Early_blight\", \"Potato___Late_blight\", \"Potato___healthy\"]\n",
    "\n",
    "@app.get(\"/ping\")\n",
    "async def ping():\n",
    "    return \"Hello, I am alive\"\n",
    "\n",
    "def read_file_as_image(data) -> np.ndarray:\n",
    "    image = np.array(Image.open(BytesIO(data)).resize((256, 256)))  # Resize to match model input\n",
    "    image = image / 255.0  # Normalize\n",
    "    return image\n",
    "\n",
    "@app.post(\"/predict\")\n",
    "async def predict(file: UploadFile = File(...)):\n",
    "    image = read_file_as_image(await file.read())\n",
    "    img_batch = np.expand_dims(image, 0)  # Add batch dimension\n",
    "\n",
    "    # ✅ Use TFSMLayer for inference\n",
    "    prediction = model(img_batch)\n",
    "\n",
    "    # ✅ Extract numerical values from dictionary output\n",
    "    prediction = prediction[\"output_0\"].numpy()  # Extract output from dict\n",
    "    \n",
    "    predicted_class = CLASS_NAMES[np.argmax(prediction)]\n",
    "    confidence = float(np.max(prediction))\n",
    "\n",
    "    return {\n",
    "        \"class\": predicted_class,\n",
    "        \"confidence\": confidence\n",
    "    }\n",
    "\n",
    "# ✅ Run FastAPI app inside Jupyter Notebook\n",
    "uvicorn.run(app, host=\"localhost\", port=8014)\n"
   ]
  },
  {
   "cell_type": "code",
   "execution_count": null,
   "id": "da545d06-c37c-4ab4-ae8e-e764bf93f81f",
   "metadata": {},
   "outputs": [],
   "source": []
  },
  {
   "cell_type": "code",
   "execution_count": null,
   "id": "ccc83496-bd95-45df-a8bf-09dc7a1a55f9",
   "metadata": {},
   "outputs": [],
   "source": []
  },
  {
   "cell_type": "code",
   "execution_count": null,
   "id": "d2718b92-e3e6-4c20-9698-f202d65d05ac",
   "metadata": {},
   "outputs": [],
   "source": []
  }
 ],
 "metadata": {
  "kernelspec": {
   "display_name": "Python [conda env:base] *",
   "language": "python",
   "name": "conda-base-py"
  },
  "language_info": {
   "codemirror_mode": {
    "name": "ipython",
    "version": 3
   },
   "file_extension": ".py",
   "mimetype": "text/x-python",
   "name": "python",
   "nbconvert_exporter": "python",
   "pygments_lexer": "ipython3",
   "version": "3.12.7"
  }
 },
 "nbformat": 4,
 "nbformat_minor": 5
}
